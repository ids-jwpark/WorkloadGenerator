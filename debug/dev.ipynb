{
 "cells": [
  {
   "cell_type": "code",
   "execution_count": null,
   "metadata": {},
   "outputs": [],
   "source": [
    "from DWG.utils import *"
   ]
  },
  {
   "cell_type": "code",
   "execution_count": null,
   "metadata": {},
   "outputs": [],
   "source": [
    "from transformers import GPT2LMHeadModel, GPT2Tokenizer\n",
    "\n",
    "# Load the pretrained model and tokenizer\n",
    "model_name = \"gpt2\"\n",
    "model = GPT2LMHeadModel.from_pretrained(model_name)\n",
    "tokenizer = GPT2Tokenizer.from_pretrained(model_name)\n",
    "\n",
    "# Example usage\n",
    "input_text = \"Hello, how are you?\"\n",
    "input_ids = tokenizer.encode(input_text, return_tensors=\"pt\")\n",
    "output = model.generate(input_ids)\n",
    "decoded_output = tokenizer.decode(output[0], skip_special_tokens=True)\n",
    "\n",
    "print(decoded_output)\n"
   ]
  },
  {
   "cell_type": "code",
   "execution_count": null,
   "metadata": {},
   "outputs": [],
   "source": [
    "import torch.onnx\n",
    "\n",
    "# Set the path for saving the ONNX file\n",
    "onnx_file_path = \"model.onnx\"\n",
    "\n",
    "# Set the input tensor\n",
    "input_ids = torch.tensor([[15496, 11, 703, 389, 345, 30]])\n",
    "\n",
    "# Export the model to ONNX\n",
    "torch.onnx.export(model, input_ids, onnx_file_path)\n"
   ]
  },
  {
   "cell_type": "code",
   "execution_count": null,
   "metadata": {},
   "outputs": [],
   "source": [
    "import onnx\n",
    "import numpy as np\n",
    "import onnxruntime as ort\n",
    "#session = ort.InferenceSession(\"model.onnx\", \n",
    "#                               providers=['CUDAExecutionProvider', 'CPUExecutionProvider']\n",
    "#                               )\n",
    "#ortvalue = ort.OrtValue.ortvalue_from_numpy(input_ids.numpy())\n",
    "onnx_model = onnx.load(\"model.onnx\")\n",
    "#onames = [o.name for o in onnx_model.graph.output]\n",
    "\n",
    "#session.run(onames, {\"onnx::Reshape_0\": ortvalue})"
   ]
  },
  {
   "cell_type": "code",
   "execution_count": null,
   "metadata": {},
   "outputs": [],
   "source": [
    "#from DWG.utils import count_operators\n",
    "\n",
    "def count_operators(model):\n",
    "    \"\"\"\n",
    "    Count the number of operators in an ONNX model.\n",
    "    \"\"\"\n",
    "    #model = onnx.load(onnx_operator)\n",
    "    count = {}\n",
    "    for node in model.graph.node:\n",
    "        if node.op_type in count:\n",
    "            count[node.op_type] += 1\n",
    "        else:\n",
    "            count[node.op_type] = 1\n",
    "    return count\n",
    "\n",
    "def count_macs(session):\n",
    "    \"\"\"\n",
    "    Count MACs for supported operations. \n",
    "    Supported operations are Conv1D/Conv2D, MatMul, and Gemm at the moment.\n",
    "    \"\"\"\n",
    "    # First check if op type is supported\n",
    "    supported_ops = [\"Conv\", \"MatMul\", \"Gemm\"]\n",
    "    count = {}\n",
    "    warning_issued=False\n",
    "    # Get the entire tensor shape info from onnx graph\n",
    "    tensor_shapes = {tensor.name: tensor.dims for tensor in onnx_model.graph.initializer}\n",
    "    \n",
    "    # Use ONNX runtime session to iterate through all nodes\n",
    "    for node in session.get_modelmeta().graph.node:\n",
    "        # Check if the node is supported and issue warning if not\n",
    "        op_type = node.op_type\n",
    "        if not any([op in op_type for op in supported_ops]):\n",
    "            if not warning_issued:\n",
    "                print(f\"Warning: {op_type} is not supported for MACs calculation.\")\n",
    "                warning_issued = True\n",
    "            continue\n",
    "        # Get the input tensor shapes\n",
    "        input_shapes = [tensor_shapes[input_name] for input_name in node.input]\n",
    "        # Get the output tensor shape\n",
    "        output_shape = tensor_shapes[node.output[0]]\n",
    "        # Calculate the MACs for Conv\n",
    "        if \"Conv\" in op_type:\n",
    "            # Get the kernel size\n",
    "            kernel_size = np.prod(input_shapes[1][2:])\n",
    "            # Get the number of output channels\n",
    "            output_channels = output_shape[1]\n",
    "            # Get the number of MACs\n",
    "            macs = kernel_size * output_channels\n",
    "        # Calculate the MACs for MatMul or Gemm\n",
    "        elif \"MatMul\" in op_type or \"Gemm\" in op_type:\n",
    "            # Get the number of MACs\n",
    "            macs = input_shapes[0][1] * output_shape[1]\n",
    "\n",
    "        # Update the count dictionary\n",
    "        count[node.op_type] = count.get(node.op_type, 0) + macs\n",
    "    # Also return the total MACs\n",
    "    total_macs = sum(count.values())\n",
    "    count['total'] = total_macs\n",
    "    return count\n",
    "        \n",
    "\n",
    "# Load the ONNX model\n",
    "onnx_model = onnx.load(\"model.onnx\")\n",
    "\n",
    "# Get the count dictionary of operators\n",
    "count_dict = count_operators(onnx_model)\n",
    "\n",
    "#count_dict\n",
    "\n",
    "# Get the count dictionary of MACs\n",
    "macs_dict = count_macs(session)\n"
   ]
  },
  {
   "cell_type": "code",
   "execution_count": null,
   "metadata": {},
   "outputs": [],
   "source": []
  },
  {
   "cell_type": "code",
   "execution_count": null,
   "metadata": {},
   "outputs": [],
   "source": [
    "inferred_shapes = onnx.shape_inference.infer_shapes(onnx_model)"
   ]
  },
  {
   "cell_type": "code",
   "execution_count": null,
   "metadata": {},
   "outputs": [],
   "source": [
    "tensor_shapes = {tensor.name: tensor.dims for tensor in onnx_model.graph.initializer}"
   ]
  },
  {
   "cell_type": "code",
   "execution_count": null,
   "metadata": {},
   "outputs": [],
   "source": [
    "for node in onnx_model.graph.node:\n",
    "    if node.op_type == 'Reshape':\n",
    "        print(node)\n",
    "        "
   ]
  },
  {
   "cell_type": "code",
   "execution_count": null,
   "metadata": {},
   "outputs": [],
   "source": [
    "tnames = list(tensor_shapes.keys())"
   ]
  },
  {
   "cell_type": "code",
   "execution_count": null,
   "metadata": {},
   "outputs": [],
   "source": [
    "# graph intermediate tensors\n",
    "for node in onnx_model.graph.node:\n",
    "    for i in node.input:\n",
    "        if i not in tnames:\n",
    "            print(i)\n",
    "    for o in node.output:\n",
    "        if o not in tnames:\n",
    "            print(o)"
   ]
  }
 ],
 "metadata": {
  "kernelspec": {
   "display_name": "WGen",
   "language": "python",
   "name": "python3"
  },
  "language_info": {
   "codemirror_mode": {
    "name": "ipython",
    "version": 3
   },
   "file_extension": ".py",
   "mimetype": "text/x-python",
   "name": "python",
   "nbconvert_exporter": "python",
   "pygments_lexer": "ipython3",
   "version": "3.8.19"
  }
 },
 "nbformat": 4,
 "nbformat_minor": 2
}
