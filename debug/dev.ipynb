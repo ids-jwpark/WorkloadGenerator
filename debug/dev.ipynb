{
 "cells": [
  {
   "cell_type": "code",
   "execution_count": 1,
   "metadata": {},
   "outputs": [],
   "source": [
    "from workload_generator import *"
   ]
  },
  {
   "cell_type": "code",
   "execution_count": 2,
   "metadata": {},
   "outputs": [
    {
     "name": "stderr",
     "output_type": "stream",
     "text": [
      "/home/jeffjw/anaconda3/envs/DWG/lib/python3.8/site-packages/tqdm/auto.py:21: TqdmWarning: IProgress not found. Please update jupyter and ipywidgets. See https://ipywidgets.readthedocs.io/en/stable/user_install.html\n",
      "  from .autonotebook import tqdm as notebook_tqdm\n",
      "The attention mask and the pad token id were not set. As a consequence, you may observe unexpected behavior. Please pass your input's `attention_mask` to obtain reliable results.\n",
      "Setting `pad_token_id` to `eos_token_id`:50256 for open-end generation.\n",
      "/home/jeffjw/anaconda3/envs/DWG/lib/python3.8/site-packages/transformers/generation/utils.py:1132: UserWarning: Using the model-agnostic default `max_length` (=20) to control the generation length. We recommend setting `max_new_tokens` to control the maximum length of the generation.\n",
      "  warnings.warn(\n"
     ]
    },
    {
     "name": "stdout",
     "output_type": "stream",
     "text": [
      "Hello, how are you today?\n",
      "\n",
      "I'm so happy to be here. I'm so\n"
     ]
    }
   ],
   "source": [
    "from transformers import GPT2LMHeadModel, GPT2Tokenizer\n",
    "\n",
    "# Load the pretrained model and tokenizer\n",
    "model_name = \"gpt2\"\n",
    "model = GPT2LMHeadModel.from_pretrained(model_name)\n",
    "tokenizer = GPT2Tokenizer.from_pretrained(model_name)\n",
    "\n",
    "# Example usage\n",
    "input_text = \"Hello, how are you today?\"\n",
    "input_ids = tokenizer.encode(input_text, return_tensors=\"pt\")\n",
    "output = model.generate(input_ids)\n",
    "decoded_output = tokenizer.decode(output[0], skip_special_tokens=True)\n",
    "\n",
    "print(decoded_output)\n"
   ]
  },
  {
   "cell_type": "code",
   "execution_count": 5,
   "metadata": {},
   "outputs": [],
   "source": [
    "import torch.onnx\n",
    "\n",
    "# Set the path for saving the ONNX file\n",
    "onnx_file_path = \"model.onnx\"\n",
    "\n",
    "# Set the input tensor\n",
    "input_ids = torch.tensor([[15496, 11, 703, 389, 345, 30, 44]])\n",
    "\n",
    "# Export the model to ONNX\n",
    "torch.onnx.export(model, input_ids, onnx_file_path)\n"
   ]
  },
  {
   "cell_type": "code",
   "execution_count": 6,
   "metadata": {},
   "outputs": [],
   "source": [
    "import onnx\n",
    "import numpy as np\n",
    "import onnxruntime as ort\n",
    "#session = ort.InferenceSession(\"model.onnx\", \n",
    "#                               providers=['CUDAExecutionProvider', 'CPUExecutionProvider']\n",
    "#                               )\n",
    "#ortvalue = ort.OrtValue.ortvalue_from_numpy(input_ids.numpy())\n",
    "onnx_model = onnx.load(\"model.onnx\")\n",
    "#onames = [o.name for o in onnx_model.graph.output]\n",
    "\n",
    "#session.run(onames, {\"onnx::Reshape_0\": ortvalue})"
   ]
  },
  {
   "cell_type": "code",
   "execution_count": 7,
   "metadata": {},
   "outputs": [],
   "source": [
    "onnx_model = onnx.shape_inference.infer_shapes(onnx_model)"
   ]
  },
  {
   "cell_type": "code",
   "execution_count": 8,
   "metadata": {},
   "outputs": [],
   "source": [
    "# Generate Value Dictionary\n",
    "value_info = onnx_model.graph.value_info\n",
    "value_dict = {reformat_name(v.name): v for v in value_info}\n",
    "\n",
    "# Also include the output of graph to the value_dict\n",
    "for out in onnx_model.graph.output:\n",
    "    value_dict[reformat_name(out.name)] = out"
   ]
  },
  {
   "cell_type": "code",
   "execution_count": 13,
   "metadata": {},
   "outputs": [
    {
     "ename": "AttributeError",
     "evalue": "keys",
     "output_type": "error",
     "traceback": [
      "\u001b[0;31m---------------------------------------------------------------------------\u001b[0m",
      "\u001b[0;31mAttributeError\u001b[0m                            Traceback (most recent call last)",
      "Cell \u001b[0;32mIn[13], line 1\u001b[0m\n\u001b[0;32m----> 1\u001b[0m keys \u001b[38;5;241m=\u001b[39m \u001b[38;5;28mlist\u001b[39m(\u001b[43monnx_model\u001b[49m\u001b[38;5;241;43m.\u001b[39;49m\u001b[43mgraph\u001b[49m\u001b[38;5;241;43m.\u001b[39;49m\u001b[43mkeys\u001b[49m())\n",
      "\u001b[0;31mAttributeError\u001b[0m: keys"
     ]
    }
   ],
   "source": [
    "for node in onnx_model.graph.node:\n",
    "    if reformat_name(node.name) == 'transformer.h.0.attn.MatMul':\n",
    "        break"
   ]
  },
  {
   "cell_type": "code",
   "execution_count": null,
   "metadata": {},
   "outputs": [],
   "source": [
    "from typing import NamedTuple, Optional, Dict\n",
    "\n",
    "class ParsedModel(NamedTuple):\n",
    "    \"\"\"\n",
    "    Parsed Model: Required: op_type, input_shapes, output_shapes, macs\n",
    "    Optional: attributes, param_shapes\n",
    "    op_type: str, just the type of operation\n",
    "    input_shapes: input shapes of the operation, list of int tuples\n",
    "    output_shapes: output shapes of the operation, list of int tuples\n",
    "    macs: number of Multiply-Accumulate operations\n",
    "    attributes: optional attributes of the operation, dictionary\n",
    "    param_shapes: optional parameter shapes of the operation, list of int tuples\n",
    "    \"\"\"\n",
    "    op_type: str\n",
    "    input_shapes: list\n",
    "    output_shapes: list\n",
    "    macs: int\n",
    "    attribute: Optional[list]\n",
    "    param_shapes: Optional[list] = []\n",
    "\n",
    "def reformat_name(tensor_name):\n",
    "    \"\"\"\n",
    "    Reformat tensor name if it starts with \"/\", so that all \"/\" are changed to \".\" \n",
    "    and the first \".\" is removed.\n",
    "    \"\"\"\n",
    "    if tensor_name.startswith(\"/\"):\n",
    "        tensor_name = tensor_name[1:]\n",
    "    return tensor_name.replace(\"/\", \".\")\n",
    "\n",
    "\n",
    "def parse_convnode(node, value_dict, param_dict):\n",
    "    \"\"\"\n",
    "    Parse Convolutional node to include input and output shapes.\n",
    "    Count MACs for Convolutional layers.\n",
    "    \"\"\"\n",
    "    # Get the input size\n",
    "    input_name = reformat_name(node.input[0])\n",
    "    input_shape = value_dict[input_name].type.tensor_type.shape.dim\n",
    "    input_channels = input_shape[1].dim_value\n",
    "    # Get the output size\n",
    "    output_name = reformat_name(node.output[0])\n",
    "    output_shape = value_dict[output_name].type.tensor_type.shape.dim\n",
    "    output_channels = output_shape[1].dim_value\n",
    "    # Get the kernel size\n",
    "    kernel_name = reformat_name(node.input[1])\n",
    "    kernel_shape = param_dict[kernel_name].dims\n",
    "    kernel_size = kernel_shape[-2:]\n",
    "    # Also check for bias\n",
    "    bias_shape = None\n",
    "    if len(node.input) == 3:\n",
    "        bias_name = reformat_name(node.input[2])\n",
    "        bias_shape = param_dict[bias_name].dims\n",
    "        bias_size = bias_shape[0]\n",
    "    # Get the number of MACs\n",
    "    macs = np.prod(kernel_size) * input_channels * output_channels * np.prod(output_shape[2:]) + (0 if bias_shape is None else output_channels * np.prod(output_shape[2:]))\n",
    "    # Create ParsedModel object.\n",
    "    # First map input_shape and output_shape to a single element list \n",
    "    if bias_shape is not None:\n",
    "        input_shape = [tuple([d.dim_value for d in input_shape]), tuple([d for d in kernel_shape]), tuple([d for d in bias_shape])]\n",
    "    else:\n",
    "        input_shape = [tuple([d.dim_value for d in input_shape]), tuple([d for d in kernel_shape])]\n",
    "    output_shape = [tuple([d.dim_value for d in output_shape])]\n",
    "    # Create param_shapes\n",
    "    param_shapes = [tuple([d for d in kernel_shape])]\n",
    "    return ParsedModel(node.op_type, input_shape, output_shape, macs, attribute=node.attribute, param_shapes=param_shapes)\n",
    "\n",
    "def parse_gemmnode(node, value_dict, param_dict):\n",
    "    \"\"\"\n",
    "    Parse Gemm node to include input and output shapes.\n",
    "    Count MACs for Gemm operations.\n",
    "    \"\"\"\n",
    "    param_shapes = []\n",
    "    # Get the input size for #0\n",
    "    i1_name = reformat_name(node.input[0])\n",
    "    # Check if i1 in param dict\n",
    "    if i1_name in param_dict:\n",
    "        param_shapes.append(tuple([d for d in param_dict[i1_name].dims]))\n",
    "        i1_channels = param_dict[i1_name].dims[0]\n",
    "        internal_channels = param_dict[i1_name].dims[1]\n",
    "    else:\n",
    "        i1_shape = value_dict[i1_name].type.tensor_type.shape.dim\n",
    "        internal_channels = i1_shape[1].dim_value\n",
    "        i1_channels = i1_shape[0].dim_value\n",
    "    # Get the input size for #1\n",
    "    i2_name = reformat_name(node.input[1])\n",
    "    # Check if i2 in param dict\n",
    "    if i2_name in param_dict:\n",
    "        param_shapes.append(tuple([d for d in param_dict[i2_name].dims]))\n",
    "        i2_channels = param_dict[i2_name].dims[1]\n",
    "    else:\n",
    "        i2_shape = value_dict[i2_name].type.tensor_type.shape.dim\n",
    "        i2_channels = i2_shape[1].dim_value\n",
    "    \n",
    "    # Check if bias is present\n",
    "    bias_shape = None\n",
    "    if len(node.input) == 3:\n",
    "        bias_name = reformat_name(node.input[2])\n",
    "        bias_shape = param_dict[bias_name].dims\n",
    "        bias_size = bias_shape[0]\n",
    "        param_shapes.append(tuple([d for d in bias_shape]))\n",
    "    # Get the number of MACs\n",
    "    macs = i1_channels * internal_channels * i2_channels\n",
    "    if bias_shape is not None:\n",
    "        input_shapes = [tuple([i1_channels, internal_channels]), tuple([internal_channels, i2_channels]), tuple([i2_channels])]\n",
    "    else:\n",
    "        input_shapes = [tuple([i1_channels, internal_channels]), tuple([internal_channels, i2_channels])]\n",
    "    return ParsedModel(node.op_type, input_shapes, [tuple([i1_channels, i2_channels])], macs, attribute=node.attribute, param_shapes=param_shapes)\n",
    "\n",
    "def parse_onnx(onnx_model):\n",
    "    \"\"\"\n",
    "    Parse ONNX model file to include input and output shapes.\n",
    "    Cout MACs for Convolutional layers, Gemm, and Matmul operations.\n",
    "    \"\"\"\n",
    "    # First check if op type is supported\n",
    "    supported_ops = [\"Conv\", \"MatMul\", \"Gemm\"]\n",
    "    parsed_model = {}\n",
    "    # Parsed model should have the following fixed fields in NamedTuple:\n",
    "    # op_type, input_shapes, output_shapes, macs, attributes (optional), param_shapes (optional, only if in graph.initializer)\n",
    "    warning_issued=False\n",
    "    # If onnx_model's value info is empty list, generate with shape inference\n",
    "    if not onnx_model.graph.value_info:\n",
    "        onnx_model = onnx.shape_inference.infer_shapes(onnx_model)\n",
    "    value_info = onnx_model.graph.value_info\n",
    "    value_dict = {reformat_name(v.name): v for v in value_info}\n",
    "\n",
    "    # Also include the output of graph.node to the value_dict\n",
    "    for out in onnx_model.graph.output:\n",
    "        value_dict[reformat_name(out.name)] = out\n",
    "\n",
    "    param_info = onnx_model.graph.initializer\n",
    "    param_dict = {p.name: p for p in param_info}\n",
    "\n",
    "    for node in onnx_model.graph.node:\n",
    "        # Check if the node is supported\n",
    "        if not any([op_type in node.op_type for op_type in supported_ops]):\n",
    "            if not warning_issued:\n",
    "                print(f\"Warning: {node.op_type} is not supported.\")\n",
    "                warning_issued = True\n",
    "\n",
    "        # Count MACs for Conv\n",
    "        if \"Conv\" in node.op_type:\n",
    "            parsed_model[reformat_name(node.name)] = parse_convnode(node, value_dict, param_dict)\n",
    "        # Count MACs for Gemm\n",
    "        elif \"Gemm\" in node.op_type:\n",
    "            parsed_model[reformat_name(node.name)] = parse_gemmnode(node, value_dict, param_dict)\n",
    "        # Count MACs for MatMul\n",
    "        elif \"MatMul\" in node.op_type:\n",
    "            parsed_model[reformat_name(node.name)] = parse_gemmnode(node, value_dict, param_dict)\n",
    "        \n",
    "        # Only Parsing Conv, GEMM, Matmul for now. Add more as needed.\n",
    "    return parsed_model"
   ]
  },
  {
   "cell_type": "code",
   "execution_count": null,
   "metadata": {},
   "outputs": [],
   "source": [
    "parsed_model = parse_onnx(onnx_model)"
   ]
  },
  {
   "cell_type": "code",
   "execution_count": null,
   "metadata": {},
   "outputs": [],
   "source": [
    "onnx_model"
   ]
  },
  {
   "cell_type": "code",
   "execution_count": null,
   "metadata": {},
   "outputs": [],
   "source": [
    "write_csv(parsed_model, filename='NotUnique7.csv', unique_only=False)"
   ]
  },
  {
   "cell_type": "code",
   "execution_count": null,
   "metadata": {},
   "outputs": [],
   "source": [
    "# Analyze Gemm type.\n",
    "#  Get all \"gemm\" nodes\n",
    "value_info = onnx_model.graph.value_info\n",
    "value_dict = {reformat_name(v.name): v for v in value_info}\n",
    "for out in onnx_model.graph.output:\n",
    "    value_dict[reformat_name(out.name)] = out\n",
    "\n",
    "param_info = onnx_model.graph.initializer\n",
    "param_dict = {p.name: p for p in param_info}\n",
    "\n",
    "gemm_nodes = [node for node in onnx_model.graph.node if \"Gemm\" in node.op_type]\n",
    "node = gemm_nodes[0]"
   ]
  },
  {
   "cell_type": "code",
   "execution_count": null,
   "metadata": {},
   "outputs": [],
   "source": [
    "parse_gemmnode(node, value_dict, param_dict)"
   ]
  },
  {
   "cell_type": "code",
   "execution_count": null,
   "metadata": {},
   "outputs": [],
   "source": [
    "i1_name = reformat_name(node.input[0])\n",
    "i2_name = reformat_name(node.input[1])\n",
    "# Check if i1 in param dict\n",
    "if i1_name in param_dict:\n",
    "    i1_channels = param_dict[i1_name].dims[0]\n",
    "    internal_channels = param_dict[i1_name].dims[1]\n",
    "else:\n",
    "    i1_shape = value_dict[i1_name].type.tensor_type.shape.dim\n",
    "    internal_channels = i1_shape[1].dim_value\n",
    "    i1_channels = i1_shape[0].dim_value\n",
    "if i2_name in param_dict:\n",
    "    i2_channels = param_dict[i2_name].dims[1]\n",
    "else:\n",
    "    i2_shape = value_dict[i2_name].type.tensor_type.shape.dim\n",
    "    i2_channels = i2_shape[1].dim_value\n",
    "\n",
    "i1_channels"
   ]
  },
  {
   "cell_type": "code",
   "execution_count": null,
   "metadata": {},
   "outputs": [],
   "source": [
    "if not onnx_model.graph.value_info:\n",
    "    onnx_model = onnx.shape_inference.infer_shapes(onnx_model)\n",
    "value_info = onnx_model.graph.value_info\n",
    "value_dict = {reformat_name(v.name): v for v in value_info}\n",
    "for out in onnx_model.graph.output:\n",
    "    value_dict[reformat_name(out.name)] = out\n",
    "\n",
    "param_info = onnx_model.graph.initializer\n",
    "param_dict = {p.name: p for p in param_info}"
   ]
  },
  {
   "cell_type": "code",
   "execution_count": null,
   "metadata": {},
   "outputs": [],
   "source": [
    "#  Get all \"matmul\" or \"gemm\" nodes\n",
    "value_dict\n",
    "matmul_nodes = [node for node in onnx_model.graph.node if \"MatMul\" in node.op_type]"
   ]
  },
  {
   "cell_type": "code",
   "execution_count": null,
   "metadata": {},
   "outputs": [],
   "source": [
    "value_dict[reformat_name(matmul_nodes[-1].input[0])]"
   ]
  },
  {
   "cell_type": "code",
   "execution_count": null,
   "metadata": {},
   "outputs": [],
   "source": [
    "parsed_model = parse_onnx(onnx_model)\n",
    "for parse"
   ]
  },
  {
   "cell_type": "code",
   "execution_count": null,
   "metadata": {},
   "outputs": [],
   "source": [
    "onnx_model.graph.output[2]"
   ]
  },
  {
   "cell_type": "code",
   "execution_count": null,
   "metadata": {},
   "outputs": [],
   "source": [
    "tr_dict = {}\n",
    "for node in onnx_model.graph.node:\n",
    "    if \"Transpose\" in node.op_type:\n",
    "        for i, output in enumerate(node.output):\n",
    "            if reformat_name(output) not in value_dict:\n",
    "                print(output)\n"
   ]
  },
  {
   "cell_type": "code",
   "execution_count": null,
   "metadata": {},
   "outputs": [],
   "source": [
    "for node in onnx_model.graph.node:\n",
    "    # Check if \"value.59\" is in the node's inputs or outputs\n",
    "    if 'value.59' in node.output:\n",
    "        print(f'Found \"value.59\" in node: {node.name}')"
   ]
  },
  {
   "cell_type": "code",
   "execution_count": null,
   "metadata": {},
   "outputs": [],
   "source": [
    "value_dict['/transformer/h.0/Add_1_output_0']"
   ]
  }
 ],
 "metadata": {
  "kernelspec": {
   "display_name": "WGen",
   "language": "python",
   "name": "python3"
  },
  "language_info": {
   "codemirror_mode": {
    "name": "ipython",
    "version": 3
   },
   "file_extension": ".py",
   "mimetype": "text/x-python",
   "name": "python",
   "nbconvert_exporter": "python",
   "pygments_lexer": "ipython3",
   "version": "3.8.19"
  }
 },
 "nbformat": 4,
 "nbformat_minor": 2
}
