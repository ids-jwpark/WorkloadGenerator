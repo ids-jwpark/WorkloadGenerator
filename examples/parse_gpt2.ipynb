{
 "cells": [
  {
   "cell_type": "code",
   "execution_count": 1,
   "metadata": {},
   "outputs": [
    {
     "name": "stderr",
     "output_type": "stream",
     "text": [
      "/home/jeffjw/anaconda3/envs/DWG/lib/python3.8/site-packages/tqdm/auto.py:21: TqdmWarning: IProgress not found. Please update jupyter and ipywidgets. See https://ipywidgets.readthedocs.io/en/stable/user_install.html\n",
      "  from .autonotebook import tqdm as notebook_tqdm\n"
     ]
    }
   ],
   "source": [
    "from transformers import GPT2LMHeadModel, GPT2Tokenizer\n",
    "import torch.onnx\n",
    "import torch\n",
    "import onnx\n",
    "import numpy as np\n",
    "import onnxruntime as ort\n",
    "from workload_generator import parse_onnx, write_csv\n",
    "\n"
   ]
  },
  {
   "cell_type": "code",
   "execution_count": 2,
   "metadata": {},
   "outputs": [
    {
     "name": "stderr",
     "output_type": "stream",
     "text": [
      "The attention mask and the pad token id were not set. As a consequence, you may observe unexpected behavior. Please pass your input's `attention_mask` to obtain reliable results.\n",
      "Setting `pad_token_id` to `eos_token_id`:50256 for open-end generation.\n",
      "/home/jeffjw/anaconda3/envs/DWG/lib/python3.8/site-packages/transformers/generation/utils.py:1132: UserWarning: Using the model-agnostic default `max_length` (=20) to control the generation length. We recommend setting `max_new_tokens` to control the maximum length of the generation.\n",
      "  warnings.warn(\n"
     ]
    },
    {
     "name": "stdout",
     "output_type": "stream",
     "text": [
      "Hello, how are you?\n",
      "\n",
      "I'm a little bit of a nerd. I'm a\n"
     ]
    }
   ],
   "source": [
    "\n",
    "# Load the pretrained model and tokenizer\n",
    "model_name = \"gpt2\"\n",
    "model = GPT2LMHeadModel.from_pretrained(model_name)\n",
    "tokenizer = GPT2Tokenizer.from_pretrained(model_name)\n",
    "\n",
    "# Example usage\n",
    "input_text = \"Hello, how are you?\"\n",
    "input_ids = tokenizer.encode(input_text, return_tensors=\"pt\")\n",
    "output = model.generate(input_ids)\n",
    "decoded_output = tokenizer.decode(output[0], skip_special_tokens=True)\n",
    "\n",
    "print(decoded_output)\n",
    "\n",
    "\n",
    "# Set the path for saving the ONNX file\n",
    "onnx_file_path = \"model.onnx\"\n",
    "\n",
    "# Set the input tensor\n",
    "input_ids = torch.tensor([[15496, 11, 703, 389, 345, 30]])\n",
    "\n",
    "# Export the model to ONNX\n",
    "torch.onnx.export(model, input_ids, onnx_file_path)\n"
   ]
  },
  {
   "cell_type": "code",
   "execution_count": 3,
   "metadata": {},
   "outputs": [],
   "source": [
    "# Load the ONNX model\n",
    "onnx_model = onnx.load(\"model.onnx\")\n"
   ]
  },
  {
   "cell_type": "code",
   "execution_count": 4,
   "metadata": {},
   "outputs": [
    {
     "name": "stdout",
     "output_type": "stream",
     "text": [
      "Warning: Constant is not supported.\n"
     ]
    }
   ],
   "source": [
    "# Parse the ONNX model\n",
    "parsed_model, other_ops = parse_onnx(onnx_model)"
   ]
  },
  {
   "cell_type": "code",
   "execution_count": 8,
   "metadata": {},
   "outputs": [
    {
     "data": {
      "text/plain": [
       "ParsedModel(op_type='MatMul', input_shapes=[(1, 12), (12, 12)], output_shapes=[(1, 12)], macs=144, attribute=[], param_shapes=[])"
      ]
     },
     "execution_count": 8,
     "metadata": {},
     "output_type": "execute_result"
    }
   ],
   "source": [
    "pdict = {k: v for k,v in parsed_model.items() if v.op_type == 'Gemm' or v.op_type == 'MatMul'}\n",
    "pdict['transformer.h.1.attn.MatMul']"
   ]
  },
  {
   "cell_type": "code",
   "execution_count": 6,
   "metadata": {},
   "outputs": [
    {
     "name": "stdout",
     "output_type": "stream",
     "text": [
      "Duplicate found: transformer.h.0.attn.MatMul_1\n",
      "Duplicate found: transformer.h.1.attn.c_attn.Gemm\n",
      "Duplicate found: transformer.h.1.attn.MatMul\n",
      "Duplicate found: transformer.h.1.attn.MatMul_1\n",
      "Duplicate found: transformer.h.1.attn.c_proj.Gemm\n",
      "Duplicate found: transformer.h.1.mlp.c_fc.Gemm\n",
      "Duplicate found: transformer.h.1.mlp.c_proj.Gemm\n",
      "Duplicate found: transformer.h.2.attn.c_attn.Gemm\n",
      "Duplicate found: transformer.h.2.attn.MatMul\n",
      "Duplicate found: transformer.h.2.attn.MatMul_1\n",
      "Duplicate found: transformer.h.2.attn.c_proj.Gemm\n",
      "Duplicate found: transformer.h.2.mlp.c_fc.Gemm\n",
      "Duplicate found: transformer.h.2.mlp.c_proj.Gemm\n",
      "Duplicate found: transformer.h.3.attn.c_attn.Gemm\n",
      "Duplicate found: transformer.h.3.attn.MatMul\n",
      "Duplicate found: transformer.h.3.attn.MatMul_1\n",
      "Duplicate found: transformer.h.3.attn.c_proj.Gemm\n",
      "Duplicate found: transformer.h.3.mlp.c_fc.Gemm\n",
      "Duplicate found: transformer.h.3.mlp.c_proj.Gemm\n",
      "Duplicate found: transformer.h.4.attn.c_attn.Gemm\n",
      "Duplicate found: transformer.h.4.attn.MatMul\n",
      "Duplicate found: transformer.h.4.attn.MatMul_1\n",
      "Duplicate found: transformer.h.4.attn.c_proj.Gemm\n",
      "Duplicate found: transformer.h.4.mlp.c_fc.Gemm\n",
      "Duplicate found: transformer.h.4.mlp.c_proj.Gemm\n",
      "Duplicate found: transformer.h.5.attn.c_attn.Gemm\n",
      "Duplicate found: transformer.h.5.attn.MatMul\n",
      "Duplicate found: transformer.h.5.attn.MatMul_1\n",
      "Duplicate found: transformer.h.5.attn.c_proj.Gemm\n",
      "Duplicate found: transformer.h.5.mlp.c_fc.Gemm\n",
      "Duplicate found: transformer.h.5.mlp.c_proj.Gemm\n",
      "Duplicate found: transformer.h.6.attn.c_attn.Gemm\n",
      "Duplicate found: transformer.h.6.attn.MatMul\n",
      "Duplicate found: transformer.h.6.attn.MatMul_1\n",
      "Duplicate found: transformer.h.6.attn.c_proj.Gemm\n",
      "Duplicate found: transformer.h.6.mlp.c_fc.Gemm\n",
      "Duplicate found: transformer.h.6.mlp.c_proj.Gemm\n",
      "Duplicate found: transformer.h.7.attn.c_attn.Gemm\n",
      "Duplicate found: transformer.h.7.attn.MatMul\n",
      "Duplicate found: transformer.h.7.attn.MatMul_1\n",
      "Duplicate found: transformer.h.7.attn.c_proj.Gemm\n",
      "Duplicate found: transformer.h.7.mlp.c_fc.Gemm\n",
      "Duplicate found: transformer.h.7.mlp.c_proj.Gemm\n",
      "Duplicate found: transformer.h.8.attn.c_attn.Gemm\n",
      "Duplicate found: transformer.h.8.attn.MatMul\n",
      "Duplicate found: transformer.h.8.attn.MatMul_1\n",
      "Duplicate found: transformer.h.8.attn.c_proj.Gemm\n",
      "Duplicate found: transformer.h.8.mlp.c_fc.Gemm\n",
      "Duplicate found: transformer.h.8.mlp.c_proj.Gemm\n",
      "Duplicate found: transformer.h.9.attn.c_attn.Gemm\n",
      "Duplicate found: transformer.h.9.attn.MatMul\n",
      "Duplicate found: transformer.h.9.attn.MatMul_1\n",
      "Duplicate found: transformer.h.9.attn.c_proj.Gemm\n",
      "Duplicate found: transformer.h.9.mlp.c_fc.Gemm\n",
      "Duplicate found: transformer.h.9.mlp.c_proj.Gemm\n",
      "Duplicate found: transformer.h.10.attn.c_attn.Gemm\n",
      "Duplicate found: transformer.h.10.attn.MatMul\n",
      "Duplicate found: transformer.h.10.attn.MatMul_1\n",
      "Duplicate found: transformer.h.10.attn.c_proj.Gemm\n",
      "Duplicate found: transformer.h.10.mlp.c_fc.Gemm\n",
      "Duplicate found: transformer.h.10.mlp.c_proj.Gemm\n",
      "Duplicate found: transformer.h.11.attn.c_attn.Gemm\n",
      "Duplicate found: transformer.h.11.attn.MatMul\n",
      "Duplicate found: transformer.h.11.attn.MatMul_1\n",
      "Duplicate found: transformer.h.11.attn.c_proj.Gemm\n",
      "Duplicate found: transformer.h.11.mlp.c_fc.Gemm\n",
      "Duplicate found: transformer.h.11.mlp.c_proj.Gemm\n"
     ]
    }
   ],
   "source": [
    "# Write the parsed model to a CSV file\n",
    "write_csv(parsed_model, \"gpt2_gen.csv\")"
   ]
  }
 ],
 "metadata": {
  "kernelspec": {
   "display_name": "DWG",
   "language": "python",
   "name": "python3"
  },
  "language_info": {
   "codemirror_mode": {
    "name": "ipython",
    "version": 3
   },
   "file_extension": ".py",
   "mimetype": "text/x-python",
   "name": "python",
   "nbconvert_exporter": "python",
   "pygments_lexer": "ipython3",
   "version": "3.8.19"
  }
 },
 "nbformat": 4,
 "nbformat_minor": 2
}
