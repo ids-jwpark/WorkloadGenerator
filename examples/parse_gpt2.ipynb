{
 "cells": [
  {
   "cell_type": "code",
   "execution_count": 47,
   "metadata": {},
   "outputs": [],
   "source": [
    "from transformers import GPT2LMHeadModel, GPT2Tokenizer\n",
    "import torch.onnx\n",
    "import torch\n",
    "import onnx\n",
    "import numpy as np\n",
    "import onnxruntime as ort\n",
    "from workload_generator import parse_onnx, write_csv\n",
    "\n"
   ]
  },
  {
   "cell_type": "code",
   "execution_count": 48,
   "metadata": {},
   "outputs": [
    {
     "name": "stderr",
     "output_type": "stream",
     "text": [
      "The attention mask and the pad token id were not set. As a consequence, you may observe unexpected behavior. Please pass your input's `attention_mask` to obtain reliable results.\n",
      "Setting `pad_token_id` to `eos_token_id`:50256 for open-end generation.\n"
     ]
    },
    {
     "name": "stdout",
     "output_type": "stream",
     "text": [
      "{Conv1D(): <torch.utils.hooks.RemovableHandle object at 0x7f3070f0f1f0>, Conv1D(): <torch.utils.hooks.RemovableHandle object at 0x7f306f524e50>, Conv1D(): <torch.utils.hooks.RemovableHandle object at 0x7f306f5244f0>, Conv1D(): <torch.utils.hooks.RemovableHandle object at 0x7f306f5244c0>, Conv1D(): <torch.utils.hooks.RemovableHandle object at 0x7f306f524460>, Conv1D(): <torch.utils.hooks.RemovableHandle object at 0x7f306f5243d0>, Conv1D(): <torch.utils.hooks.RemovableHandle object at 0x7f306f524370>, Conv1D(): <torch.utils.hooks.RemovableHandle object at 0x7f306f524310>, Conv1D(): <torch.utils.hooks.RemovableHandle object at 0x7f306f524190>, Conv1D(): <torch.utils.hooks.RemovableHandle object at 0x7f306f524220>, Conv1D(): <torch.utils.hooks.RemovableHandle object at 0x7f306f5241c0>, Conv1D(): <torch.utils.hooks.RemovableHandle object at 0x7f306f524070>, Conv1D(): <torch.utils.hooks.RemovableHandle object at 0x7f306f524100>, Conv1D(): <torch.utils.hooks.RemovableHandle object at 0x7f306f5240a0>, Conv1D(): <torch.utils.hooks.RemovableHandle object at 0x7f314fa797c0>, Conv1D(): <torch.utils.hooks.RemovableHandle object at 0x7f314fa79370>, Conv1D(): <torch.utils.hooks.RemovableHandle object at 0x7f3072324670>, Conv1D(): <torch.utils.hooks.RemovableHandle object at 0x7f3053d0b640>, Conv1D(): <torch.utils.hooks.RemovableHandle object at 0x7f306fc4af70>, Conv1D(): <torch.utils.hooks.RemovableHandle object at 0x7f306fc4aee0>, Conv1D(): <torch.utils.hooks.RemovableHandle object at 0x7f306fc4ab50>, Conv1D(): <torch.utils.hooks.RemovableHandle object at 0x7f306fc4aeb0>, Conv1D(): <torch.utils.hooks.RemovableHandle object at 0x7f306fc4aa30>, Conv1D(): <torch.utils.hooks.RemovableHandle object at 0x7f306fc4a220>, Conv1D(): <torch.utils.hooks.RemovableHandle object at 0x7f306fc4acd0>, Conv1D(): <torch.utils.hooks.RemovableHandle object at 0x7f306fc4a340>, Conv1D(): <torch.utils.hooks.RemovableHandle object at 0x7f306fc4a1c0>, Conv1D(): <torch.utils.hooks.RemovableHandle object at 0x7f306fc4ac40>, Conv1D(): <torch.utils.hooks.RemovableHandle object at 0x7f306fc4ad00>, Conv1D(): <torch.utils.hooks.RemovableHandle object at 0x7f306fc4ab80>, Conv1D(): <torch.utils.hooks.RemovableHandle object at 0x7f306fc4a2e0>, Conv1D(): <torch.utils.hooks.RemovableHandle object at 0x7f306fc4afa0>, Conv1D(): <torch.utils.hooks.RemovableHandle object at 0x7f306fc4a130>, Conv1D(): <torch.utils.hooks.RemovableHandle object at 0x7f306fc4a070>, Conv1D(): <torch.utils.hooks.RemovableHandle object at 0x7f306fc4a280>, Conv1D(): <torch.utils.hooks.RemovableHandle object at 0x7f306fc4ad60>, Conv1D(): <torch.utils.hooks.RemovableHandle object at 0x7f306fc4ae80>, Conv1D(): <torch.utils.hooks.RemovableHandle object at 0x7f306fc4a040>, Conv1D(): <torch.utils.hooks.RemovableHandle object at 0x7f306fc4abe0>, Conv1D(): <torch.utils.hooks.RemovableHandle object at 0x7f306fc4a310>, Conv1D(): <torch.utils.hooks.RemovableHandle object at 0x7f306fc4ae50>, Conv1D(): <torch.utils.hooks.RemovableHandle object at 0x7f306eb0d580>, Conv1D(): <torch.utils.hooks.RemovableHandle object at 0x7f306eb0ddc0>, Conv1D(): <torch.utils.hooks.RemovableHandle object at 0x7f3071a524c0>, Conv1D(): <torch.utils.hooks.RemovableHandle object at 0x7f30725ec670>, Conv1D(): <torch.utils.hooks.RemovableHandle object at 0x7f30725ec700>, Conv1D(): <torch.utils.hooks.RemovableHandle object at 0x7f30725ec760>, Conv1D(): <torch.utils.hooks.RemovableHandle object at 0x7f30725ec7c0>, Linear(in_features=768, out_features=50257, bias=False): <torch.utils.hooks.RemovableHandle object at 0x7f30725ec820>}\n"
     ]
    },
    {
     "name": "stderr",
     "output_type": "stream",
     "text": [
      "/home/jeffjw/anaconda3/envs/DWG/lib/python3.8/site-packages/transformers/generation/utils.py:1132: UserWarning: Using the model-agnostic default `max_length` (=20) to control the generation length. We recommend setting `max_new_tokens` to control the maximum length of the generation.\n",
      "  warnings.warn(\n"
     ]
    },
    {
     "name": "stdout",
     "output_type": "stream",
     "text": [
      "Hello, how are you?\n",
      "\n",
      "I'm a little bit of a nerd. I'm a\n"
     ]
    }
   ],
   "source": [
    "\n",
    "# Load the pretrained model and tokenizer\n",
    "model_name = \"gpt2\"\n",
    "model = GPT2LMHeadModel.from_pretrained(model_name)\n",
    "tokenizer = GPT2Tokenizer.from_pretrained(model_name)\n",
    "\n",
    "# Attach hook\n",
    "def store_input_hook(module, input, output):\n",
    "    module.input_hooked = input\n",
    "\n",
    "model = GPT2LMHeadModel.from_pretrained(model_name)\n",
    "hooked = {}\n",
    "# Do a recursive search for all modules that are of type \"lookup_modules\" and register the hook\n",
    "def register_hook(module, hook, lookup_modules = [torch.nn.Linear]):\n",
    "    for child in module.children():\n",
    "        if isinstance(child, tuple(lookup_modules)):\n",
    "            handle = child.register_forward_hook(store_input_hook)\n",
    "            hooked[child] = handle\n",
    "        else:\n",
    "            register_hook(child, store_input_hook, lookup_modules)\n",
    "\n",
    "register_hook(model, hooked, lookup_modules = [torch.nn.Linear, type(model.transformer.h[0].mlp.c_fc)])\n",
    "\n",
    "print(hooked)\n",
    "\n",
    "\n",
    "# Example usage\n",
    "input_text = \"Hello, how are you?\"\n",
    "input_ids = tokenizer.encode(input_text, return_tensors=\"pt\")\n",
    "output = model.generate(input_ids)\n",
    "decoded_output = tokenizer.decode(output[0], skip_special_tokens=True)\n",
    "\n",
    "print(decoded_output)\n",
    "\n",
    "\n",
    "# Set the path for saving the ONNX file\n",
    "onnx_file_path = \"model.onnx\"\n",
    "\n",
    "# Set the input tensor\n",
    "input_ids = torch.tensor([[15496, 11, 703, 389, 345, 30]])\n",
    "\n",
    "# Export the model to ONNX\n",
    "torch.onnx.export(model, input_ids, onnx_file_path)\n"
   ]
  },
  {
   "cell_type": "code",
   "execution_count": 30,
   "metadata": {},
   "outputs": [],
   "source": [
    "keys = [k.input_hooked[0] for k in hooked.keys()]"
   ]
  },
  {
   "cell_type": "code",
   "execution_count": 53,
   "metadata": {},
   "outputs": [],
   "source": [
    "in_A = keys[0][0,0]\n",
    "in_B = list(hooked.keys())[0].weight[:,:4]"
   ]
  },
  {
   "cell_type": "code",
   "execution_count": 64,
   "metadata": {},
   "outputs": [],
   "source": [
    "# Quantize in_B with max_in_B = 7,\n",
    "# min_in_B = -8\n",
    "max_in_B = in_B.max()\n",
    "min_in_B = in_B.min()\n",
    "scale_in_B = (max_in_B - min_in_B) / 15\n",
    "in_B = torch.round(in_B / scale_in_B)\n"
   ]
  },
  {
   "cell_type": "code",
   "execution_count": 70,
   "metadata": {},
   "outputs": [
    {
     "data": {
      "text/plain": [
       "tensor(-8.)"
      ]
     },
     "execution_count": 70,
     "metadata": {},
     "output_type": "execute_result"
    }
   ],
   "source": [
    "in_B.min()"
   ]
  },
  {
   "cell_type": "code",
   "execution_count": 65,
   "metadata": {},
   "outputs": [],
   "source": [
    "ref_out = in_A @ in_B"
   ]
  },
  {
   "cell_type": "code",
   "execution_count": 66,
   "metadata": {},
   "outputs": [
    {
     "data": {
      "text/plain": [
       "tensor([-0.6352,  3.1979,  8.6187, -4.9695], grad_fn=<SqueezeBackward4>)"
      ]
     },
     "execution_count": 66,
     "metadata": {},
     "output_type": "execute_result"
    }
   ],
   "source": [
    "ref_out"
   ]
  },
  {
   "cell_type": "code",
   "execution_count": 67,
   "metadata": {},
   "outputs": [],
   "source": [
    "# Save to torch file\n",
    "torch.save({\n",
    "    'in_A': in_A,\n",
    "    'in_B': in_B,\n",
    "    'ref_out': ref_out\n",
    "}, 'test_data.pth')"
   ]
  },
  {
   "cell_type": "code",
   "execution_count": null,
   "metadata": {},
   "outputs": [],
   "source": [
    "# Load the ONNX model\n",
    "onnx_model = onnx.load(\"model.onnx\")\n"
   ]
  },
  {
   "cell_type": "code",
   "execution_count": null,
   "metadata": {},
   "outputs": [],
   "source": [
    "# Parse the ONNX model\n",
    "parsed_model, other_ops = parse_onnx(onnx_model)"
   ]
  },
  {
   "cell_type": "code",
   "execution_count": null,
   "metadata": {},
   "outputs": [],
   "source": [
    "pdict = {k: v for k,v in parsed_model.items() if v.op_type == 'Gemm' or v.op_type == 'MatMul'}\n",
    "pdict['transformer.h.1.attn.MatMul']"
   ]
  },
  {
   "cell_type": "code",
   "execution_count": null,
   "metadata": {},
   "outputs": [],
   "source": [
    "# Write the parsed model to a CSV file\n",
    "write_csv(parsed_model, \"gpt2_gen.csv\")"
   ]
  },
  {
   "cell_type": "code",
   "execution_count": null,
   "metadata": {},
   "outputs": [],
   "source": [
    "import torch \n"
   ]
  }
 ],
 "metadata": {
  "kernelspec": {
   "display_name": "DWG",
   "language": "python",
   "name": "python3"
  },
  "language_info": {
   "codemirror_mode": {
    "name": "ipython",
    "version": 3
   },
   "file_extension": ".py",
   "mimetype": "text/x-python",
   "name": "python",
   "nbconvert_exporter": "python",
   "pygments_lexer": "ipython3",
   "version": "3.8.19"
  }
 },
 "nbformat": 4,
 "nbformat_minor": 2
}
