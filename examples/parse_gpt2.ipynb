{
 "cells": [
  {
   "cell_type": "code",
   "execution_count": 1,
   "metadata": {},
   "outputs": [
    {
     "name": "stderr",
     "output_type": "stream",
     "text": [
      "/home/jeffjw/anaconda3/envs/DWG/lib/python3.8/site-packages/tqdm/auto.py:21: TqdmWarning: IProgress not found. Please update jupyter and ipywidgets. See https://ipywidgets.readthedocs.io/en/stable/user_install.html\n",
      "  from .autonotebook import tqdm as notebook_tqdm\n"
     ]
    }
   ],
   "source": [
    "from transformers import GPT2LMHeadModel, GPT2Tokenizer\n",
    "import torch.onnx\n",
    "import torch\n",
    "import onnx\n",
    "import numpy as np\n",
    "import onnxruntime as ort\n",
    "from workload_generator import parse_onnx, write_csv\n",
    "\n"
   ]
  },
  {
   "cell_type": "code",
   "execution_count": 22,
   "metadata": {},
   "outputs": [
    {
     "name": "stderr",
     "output_type": "stream",
     "text": [
      "The attention mask and the pad token id were not set. As a consequence, you may observe unexpected behavior. Please pass your input's `attention_mask` to obtain reliable results.\n",
      "Setting `pad_token_id` to `eos_token_id`:50256 for open-end generation.\n"
     ]
    },
    {
     "name": "stdout",
     "output_type": "stream",
     "text": [
      "{Conv1D(): <torch.utils.hooks.RemovableHandle object at 0x7f30712afdc0>, Conv1D(): <torch.utils.hooks.RemovableHandle object at 0x7f306fd3fac0>, Conv1D(): <torch.utils.hooks.RemovableHandle object at 0x7f30712a3040>, Conv1D(): <torch.utils.hooks.RemovableHandle object at 0x7f30712a3130>, Conv1D(): <torch.utils.hooks.RemovableHandle object at 0x7f30712a3760>, Conv1D(): <torch.utils.hooks.RemovableHandle object at 0x7f30712a3610>, Conv1D(): <torch.utils.hooks.RemovableHandle object at 0x7f30712a3490>, Conv1D(): <torch.utils.hooks.RemovableHandle object at 0x7f30712a3340>, Conv1D(): <torch.utils.hooks.RemovableHandle object at 0x7f30712a3250>, Conv1D(): <torch.utils.hooks.RemovableHandle object at 0x7f30712a3940>, Conv1D(): <torch.utils.hooks.RemovableHandle object at 0x7f30712a3d90>, Conv1D(): <torch.utils.hooks.RemovableHandle object at 0x7f30712a3ac0>, Conv1D(): <torch.utils.hooks.RemovableHandle object at 0x7f30712a34c0>, Conv1D(): <torch.utils.hooks.RemovableHandle object at 0x7f30712a3520>, Conv1D(): <torch.utils.hooks.RemovableHandle object at 0x7f306fe6e760>, Conv1D(): <torch.utils.hooks.RemovableHandle object at 0x7f306fe6e400>, Conv1D(): <torch.utils.hooks.RemovableHandle object at 0x7f306fe6de20>, Conv1D(): <torch.utils.hooks.RemovableHandle object at 0x7f306fe6d910>, Conv1D(): <torch.utils.hooks.RemovableHandle object at 0x7f3071a52b80>, Conv1D(): <torch.utils.hooks.RemovableHandle object at 0x7f3071a52be0>, Conv1D(): <torch.utils.hooks.RemovableHandle object at 0x7f3071e672b0>, Conv1D(): <torch.utils.hooks.RemovableHandle object at 0x7f3071e67be0>, Conv1D(): <torch.utils.hooks.RemovableHandle object at 0x7f3071e670d0>, Conv1D(): <torch.utils.hooks.RemovableHandle object at 0x7f3071e671c0>, Conv1D(): <torch.utils.hooks.RemovableHandle object at 0x7f3071e67700>, Conv1D(): <torch.utils.hooks.RemovableHandle object at 0x7f3071e67fd0>, Conv1D(): <torch.utils.hooks.RemovableHandle object at 0x7f3071e675e0>, Conv1D(): <torch.utils.hooks.RemovableHandle object at 0x7f3071e670a0>, Conv1D(): <torch.utils.hooks.RemovableHandle object at 0x7f3071e67d00>, Conv1D(): <torch.utils.hooks.RemovableHandle object at 0x7f3071e677c0>, Conv1D(): <torch.utils.hooks.RemovableHandle object at 0x7f3071e67fa0>, Conv1D(): <torch.utils.hooks.RemovableHandle object at 0x7f3071e67820>, Conv1D(): <torch.utils.hooks.RemovableHandle object at 0x7f3071e673d0>, Conv1D(): <torch.utils.hooks.RemovableHandle object at 0x7f3071e67670>, Conv1D(): <torch.utils.hooks.RemovableHandle object at 0x7f3071e676d0>, Conv1D(): <torch.utils.hooks.RemovableHandle object at 0x7f3071e67100>, Conv1D(): <torch.utils.hooks.RemovableHandle object at 0x7f3071e67310>, Conv1D(): <torch.utils.hooks.RemovableHandle object at 0x7f3071e675b0>, Conv1D(): <torch.utils.hooks.RemovableHandle object at 0x7f3071e67b50>, Conv1D(): <torch.utils.hooks.RemovableHandle object at 0x7f3071e678e0>, Conv1D(): <torch.utils.hooks.RemovableHandle object at 0x7f3071e67b80>, Conv1D(): <torch.utils.hooks.RemovableHandle object at 0x7f3071e67970>, Conv1D(): <torch.utils.hooks.RemovableHandle object at 0x7f3071e678b0>, Conv1D(): <torch.utils.hooks.RemovableHandle object at 0x7f3071e67790>, Conv1D(): <torch.utils.hooks.RemovableHandle object at 0x7f3071e67730>, Conv1D(): <torch.utils.hooks.RemovableHandle object at 0x7f3071e67940>, Conv1D(): <torch.utils.hooks.RemovableHandle object at 0x7f3071e67130>, Conv1D(): <torch.utils.hooks.RemovableHandle object at 0x7f3071e67370>, Linear(in_features=768, out_features=50257, bias=False): <torch.utils.hooks.RemovableHandle object at 0x7f3071e673a0>}\n"
     ]
    },
    {
     "name": "stderr",
     "output_type": "stream",
     "text": [
      "/home/jeffjw/anaconda3/envs/DWG/lib/python3.8/site-packages/transformers/generation/utils.py:1132: UserWarning: Using the model-agnostic default `max_length` (=20) to control the generation length. We recommend setting `max_new_tokens` to control the maximum length of the generation.\n",
      "  warnings.warn(\n"
     ]
    },
    {
     "name": "stdout",
     "output_type": "stream",
     "text": [
      "Hello, how are you?\n",
      "\n",
      "I'm a little bit of a nerd. I'm a\n"
     ]
    }
   ],
   "source": [
    "\n",
    "# Load the pretrained model and tokenizer\n",
    "model_name = \"gpt2\"\n",
    "model = GPT2LMHeadModel.from_pretrained(model_name)\n",
    "tokenizer = GPT2Tokenizer.from_pretrained(model_name)\n",
    "\n",
    "# Attach hook\n",
    "def store_input_hook(module, input, output):\n",
    "    module.input_hooked = input\n",
    "\n",
    "model = GPT2LMHeadModel.from_pretrained(model_name)\n",
    "hooked = {}\n",
    "# Do a recursive search for all modules that are of type \"lookup_modules\" and register the hook\n",
    "def register_hook(module, hook, lookup_modules = [torch.nn.Linear]):\n",
    "    for child in module.children():\n",
    "        if isinstance(child, tuple(lookup_modules)):\n",
    "            handle = child.register_forward_hook(store_input_hook)\n",
    "            hooked[child] = handle\n",
    "        else:\n",
    "            register_hook(child, store_input_hook, lookup_modules)\n",
    "\n",
    "register_hook(model, hooked, lookup_modules = [torch.nn.Linear, type(model.transformer.h[0].mlp.c_fc)])\n",
    "\n",
    "print(hooked)\n",
    "\n",
    "\n",
    "# Example usage\n",
    "input_text = \"Hello, how are you?\"\n",
    "input_ids = tokenizer.encode(input_text, return_tensors=\"pt\")\n",
    "output = model.generate(input_ids)\n",
    "decoded_output = tokenizer.decode(output[0], skip_special_tokens=True)\n",
    "\n",
    "print(decoded_output)\n",
    "\n",
    "\n",
    "# Set the path for saving the ONNX file\n",
    "onnx_file_path = \"model.onnx\"\n",
    "\n",
    "# Set the input tensor\n",
    "input_ids = torch.tensor([[15496, 11, 703, 389, 345, 30]])\n",
    "\n",
    "# Export the model to ONNX\n",
    "torch.onnx.export(model, input_ids, onnx_file_path)\n"
   ]
  },
  {
   "cell_type": "code",
   "execution_count": 30,
   "metadata": {},
   "outputs": [],
   "source": [
    "keys = [k.input_hooked[0] for k in hooked.keys()]"
   ]
  },
  {
   "cell_type": "code",
   "execution_count": 46,
   "metadata": {},
   "outputs": [],
   "source": [
    "in_A = keys[0][0,0]\n",
    "in_B = list(hooked.keys())[0].weight[:,:4]"
   ]
  },
  {
   "cell_type": "code",
   "execution_count": 42,
   "metadata": {},
   "outputs": [],
   "source": [
    "ref_out = in_A @ in_B"
   ]
  },
  {
   "cell_type": "code",
   "execution_count": 44,
   "metadata": {},
   "outputs": [
    {
     "data": {
      "text/plain": [
       "tensor([-0.0102,  0.4479,  0.9823, -0.4952], grad_fn=<SqueezeBackward4>)"
      ]
     },
     "execution_count": 44,
     "metadata": {},
     "output_type": "execute_result"
    }
   ],
   "source": [
    "ref_out"
   ]
  },
  {
   "cell_type": "code",
   "execution_count": null,
   "metadata": {},
   "outputs": [],
   "source": [
    "# Load the ONNX model\n",
    "onnx_model = onnx.load(\"model.onnx\")\n"
   ]
  },
  {
   "cell_type": "code",
   "execution_count": null,
   "metadata": {},
   "outputs": [],
   "source": [
    "# Parse the ONNX model\n",
    "parsed_model, other_ops = parse_onnx(onnx_model)"
   ]
  },
  {
   "cell_type": "code",
   "execution_count": null,
   "metadata": {},
   "outputs": [],
   "source": [
    "pdict = {k: v for k,v in parsed_model.items() if v.op_type == 'Gemm' or v.op_type == 'MatMul'}\n",
    "pdict['transformer.h.1.attn.MatMul']"
   ]
  },
  {
   "cell_type": "code",
   "execution_count": null,
   "metadata": {},
   "outputs": [],
   "source": [
    "# Write the parsed model to a CSV file\n",
    "write_csv(parsed_model, \"gpt2_gen.csv\")"
   ]
  },
  {
   "cell_type": "code",
   "execution_count": null,
   "metadata": {},
   "outputs": [],
   "source": [
    "import torch \n"
   ]
  }
 ],
 "metadata": {
  "kernelspec": {
   "display_name": "DWG",
   "language": "python",
   "name": "python3"
  },
  "language_info": {
   "codemirror_mode": {
    "name": "ipython",
    "version": 3
   },
   "file_extension": ".py",
   "mimetype": "text/x-python",
   "name": "python",
   "nbconvert_exporter": "python",
   "pygments_lexer": "ipython3",
   "version": "3.8.19"
  }
 },
 "nbformat": 4,
 "nbformat_minor": 2
}
