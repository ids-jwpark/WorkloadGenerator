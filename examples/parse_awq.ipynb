{
 "cells": [
  {
   "cell_type": "code",
   "execution_count": 2,
   "metadata": {},
   "outputs": [
    {
     "name": "stderr",
     "output_type": "stream",
     "text": [
      "/home/jeffjw/anaconda3/envs/DWG/lib/python3.8/site-packages/tqdm/auto.py:21: TqdmWarning: IProgress not found. Please update jupyter and ipywidgets. See https://ipywidgets.readthedocs.io/en/stable/user_install.html\n",
      "  from .autonotebook import tqdm as notebook_tqdm\n"
     ]
    }
   ],
   "source": [
    "# Load model directly\n",
    "from transformers import AutoTokenizer, AutoModelForCausalLM\n",
    "\n",
    "\n",
    "import torch.onnx\n",
    "import torch\n",
    "import onnx\n",
    "import numpy as np\n",
    "import onnxruntime as ort\n",
    "from workload_generator import parse_onnx, write_csv\n",
    "\n"
   ]
  },
  {
   "cell_type": "code",
   "execution_count": null,
   "metadata": {},
   "outputs": [],
   "source": [
    "\n",
    "# Load the pretrained model and tokenizer\n",
    "tokenizer = AutoTokenizer.from_pretrained(\"TheBloke/law-LLM-AWQ\")\n",
    "model = AutoModelForCausalLM.from_pretrained(\"TheBloke/law-LLM-AWQ\")\n",
    "\n",
    "# Attach hook\n",
    "def store_input_hook(module, input, output):\n",
    "    module.input_hooked = input\n",
    "\n",
    "hooked = {}\n",
    "# Do a recursive search for all modules that are of type \"lookup_modules\" and register the hook\n",
    "def register_hook(module, hook, lookup_modules = [torch.nn.Linear]):\n",
    "    for child in module.children():\n",
    "        if isinstance(child, tuple(lookup_modules)):\n",
    "            handle = child.register_forward_hook(store_input_hook)\n",
    "            hooked[child] = handle\n",
    "        else:\n",
    "            register_hook(child, store_input_hook, lookup_modules)\n",
    "\n",
    "register_hook(model, hooked, lookup_modules = [torch.nn.Linear, type(model.transformer.h[0].mlp.c_fc)])\n",
    "\n",
    "print(hooked)\n",
    "\n",
    "\n",
    "# Example usage\n",
    "input_text = \"Hello, how are you?\"\n",
    "input_ids = tokenizer.encode(input_text, return_tensors=\"pt\")\n",
    "output = model.generate(input_ids)\n",
    "decoded_output = tokenizer.decode(output[0], skip_special_tokens=True)\n",
    "\n",
    "print(decoded_output)\n",
    "\n",
    "\n",
    "# Set the path for saving the ONNX file\n",
    "onnx_file_path = \"model.onnx\"\n",
    "\n",
    "# Set the input tensor\n",
    "input_ids = torch.tensor([[15496, 11, 703, 389, 345, 30]])\n",
    "\n",
    "# Export the model to ONNX\n",
    "torch.onnx.export(model, input_ids, onnx_file_path)\n"
   ]
  },
  {
   "cell_type": "code",
   "execution_count": 4,
   "metadata": {},
   "outputs": [],
   "source": [
    "tokenizer = AutoTokenizer.from_pretrained(\"GPT2-XL\")\n",
    "model = AutoModelForCausalLM.from_pretrained(\"GPT2-XL\")"
   ]
  },
  {
   "cell_type": "code",
   "execution_count": null,
   "metadata": {},
   "outputs": [],
   "source": []
  },
  {
   "cell_type": "code",
   "execution_count": null,
   "metadata": {},
   "outputs": [],
   "source": [
    "keys = [k.input_hooked[0] for k in hooked.keys()]"
   ]
  },
  {
   "cell_type": "code",
   "execution_count": 4,
   "metadata": {},
   "outputs": [
    {
     "ename": "NameError",
     "evalue": "name 'keys' is not defined",
     "output_type": "error",
     "traceback": [
      "\u001b[0;31m---------------------------------------------------------------------------\u001b[0m",
      "\u001b[0;31mNameError\u001b[0m                                 Traceback (most recent call last)",
      "Cell \u001b[0;32mIn[4], line 1\u001b[0m\n\u001b[0;32m----> 1\u001b[0m in_A \u001b[38;5;241m=\u001b[39m \u001b[43mkeys\u001b[49m[\u001b[38;5;241m0\u001b[39m][\u001b[38;5;241m0\u001b[39m,\u001b[38;5;241m0\u001b[39m]\n\u001b[1;32m      2\u001b[0m in_B \u001b[38;5;241m=\u001b[39m \u001b[38;5;28mlist\u001b[39m(hooked\u001b[38;5;241m.\u001b[39mkeys())[\u001b[38;5;241m0\u001b[39m]\u001b[38;5;241m.\u001b[39mweight[:,:\u001b[38;5;241m4\u001b[39m] \u001b[38;5;241m*\u001b[39m \u001b[38;5;241m16\u001b[39m\n",
      "\u001b[0;31mNameError\u001b[0m: name 'keys' is not defined"
     ]
    }
   ],
   "source": [
    "in_A = keys[0][0,0]\n",
    "in_B = list(hooked.keys())[0].weight[:,:4] * 16"
   ]
  },
  {
   "cell_type": "code",
   "execution_count": null,
   "metadata": {},
   "outputs": [],
   "source": [
    "ref_out = in_A @ in_B"
   ]
  },
  {
   "cell_type": "code",
   "execution_count": 3,
   "metadata": {},
   "outputs": [
    {
     "ename": "NameError",
     "evalue": "name 'in_A' is not defined",
     "output_type": "error",
     "traceback": [
      "\u001b[0;31m---------------------------------------------------------------------------\u001b[0m",
      "\u001b[0;31mNameError\u001b[0m                                 Traceback (most recent call last)",
      "Cell \u001b[0;32mIn[3], line 3\u001b[0m\n\u001b[1;32m      1\u001b[0m \u001b[38;5;66;03m# Save to torch file\u001b[39;00m\n\u001b[1;32m      2\u001b[0m torch\u001b[38;5;241m.\u001b[39msave({\n\u001b[0;32m----> 3\u001b[0m     \u001b[38;5;124m'\u001b[39m\u001b[38;5;124min_A\u001b[39m\u001b[38;5;124m'\u001b[39m: \u001b[43min_A\u001b[49m,\n\u001b[1;32m      4\u001b[0m     \u001b[38;5;124m'\u001b[39m\u001b[38;5;124min_B\u001b[39m\u001b[38;5;124m'\u001b[39m: in_B,\n\u001b[1;32m      5\u001b[0m     \u001b[38;5;124m'\u001b[39m\u001b[38;5;124mref_out\u001b[39m\u001b[38;5;124m'\u001b[39m: ref_out\n\u001b[1;32m      6\u001b[0m }, \u001b[38;5;124m'\u001b[39m\u001b[38;5;124mtest_data.pth\u001b[39m\u001b[38;5;124m'\u001b[39m)\n",
      "\u001b[0;31mNameError\u001b[0m: name 'in_A' is not defined"
     ]
    }
   ],
   "source": []
  },
  {
   "cell_type": "code",
   "execution_count": null,
   "metadata": {},
   "outputs": [],
   "source": [
    "# Load the ONNX model\n",
    "onnx_model = onnx.load(\"model.onnx\")\n"
   ]
  },
  {
   "cell_type": "code",
   "execution_count": null,
   "metadata": {},
   "outputs": [],
   "source": [
    "# Parse the ONNX model\n",
    "parsed_model, other_ops = parse_onnx(onnx_model)"
   ]
  },
  {
   "cell_type": "code",
   "execution_count": null,
   "metadata": {},
   "outputs": [],
   "source": [
    "pdict = {k: v for k,v in parsed_model.items() if v.op_type == 'Gemm' or v.op_type == 'MatMul'}\n",
    "pdict['transformer.h.1.attn.MatMul']"
   ]
  },
  {
   "cell_type": "code",
   "execution_count": null,
   "metadata": {},
   "outputs": [],
   "source": [
    "# Write the parsed model to a CSV file\n",
    "write_csv(parsed_model, \"gpt2_gen.csv\")"
   ]
  },
  {
   "cell_type": "code",
   "execution_count": null,
   "metadata": {},
   "outputs": [],
   "source": [
    "import torch \n"
   ]
  }
 ],
 "metadata": {
  "kernelspec": {
   "display_name": "DWG",
   "language": "python",
   "name": "python3"
  },
  "language_info": {
   "codemirror_mode": {
    "name": "ipython",
    "version": 3
   },
   "file_extension": ".py",
   "mimetype": "text/x-python",
   "name": "python",
   "nbconvert_exporter": "python",
   "pygments_lexer": "ipython3",
   "version": "3.8.19"
  }
 },
 "nbformat": 4,
 "nbformat_minor": 2
}
